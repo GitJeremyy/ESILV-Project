{
 "cells": [
  {
   "cell_type": "code",
   "execution_count": null,
   "metadata": {},
   "outputs": [
    {
     "name": "stdout",
     "output_type": "stream",
     "text": [
      "Output file has been modified : C:\\Users\\jerem\\OneDrive\\Documents\\_ESILV A4\\Advanced Database Management\\Projet_Database\\Hotel Reservations Update.csv\n",
      "File insert_booking_tuples.sql has been successfully generated.\n"
     ]
    }
   ],
   "source": [
    "import numpy as np\n",
    "import pandas as pd\n",
    "\n",
    "def del_col_csv(df, output_file, col_del):\n",
    "\n",
    "    # Delete unused columns \n",
    "    df = df.drop(columns=col_del)\n",
    "\n",
    "    # Create new column for arrival date (date format) and delete row if date is not valid\n",
    "    df['booking_date'] = pd.to_datetime(df[['arrival_year', 'arrival_month', 'arrival_date']].astype(str).agg('-'.join, axis=1), errors='coerce')\n",
    "    df.drop(df[df['booking_date'].isnull()].index, inplace=True)\n",
    "    df.drop(['arrival_year', 'arrival_month', 'arrival_date'], axis=1, inplace=True)\n",
    "\n",
    "    # Replace 0 with 'N' and 1 with 'Y' in car_parking_space column to match data type\n",
    "    df['required_car_parking_space'] = df['required_car_parking_space'].replace({0: 'N', 1: 'Y'})\n",
    "\n",
    "    # Sum the columns no_of_weekend_nights and no_of_week_nights into a new column no_nights\n",
    "    df['no_of_nights'] = df['no_of_weekend_nights'] + df['no_of_week_nights']\n",
    "    df.drop(['no_of_weekend_nights', 'no_of_week_nights'], axis=1, inplace=True)\n",
    "\n",
    "    # Remove 75% of rows where booking_status is 'Canceled'\n",
    "    canceled_indices = df[df['booking_status'] == 'Canceled'].index\n",
    "    indices_to_remove = np.random.choice(canceled_indices, size=int(0.75 * len(canceled_indices)), replace=False)\n",
    "    df.drop(indices_to_remove, inplace=True)\n",
    "\n",
    "    # Rename columns to match the database attributes name\n",
    "    df.rename(columns={'Booking_ID': 'booking_id'}, inplace=True)\n",
    "    df.rename(columns={'type_of_meal_plan': 'meal_plan'}, inplace=True)\n",
    "    df.rename(columns={'required_car_parking_space': 'car_parking_space'}, inplace=True)\n",
    "\n",
    "    # Keeping only the first 1000 rows\n",
    "    df = df.iloc[:1000]\n",
    "\n",
    "    # Update output file\n",
    "    df.to_csv(output_file, index=False)\n",
    "    print(f\"Output file has been modified : {output_file}\")\n",
    "\n",
    "df = pd.read_csv(\"Hotel Reservations.csv\", sep=\",\")  # File to modify\n",
    "output_file = 'C:\\\\Users\\\\jerem\\\\OneDrive\\\\Documents\\\\_ESILV A4\\\\Advanced Database Management\\\\Projet_Database\\\\Hotel Reservations Update.csv'  # Output file with modifications\n",
    "\n",
    "# Columns to delete (yes, we delete booking_id to make it more consistent with the database)\n",
    "col_del = ['Booking_ID','room_type_reserved','market_segment_type','repeated_guest','no_of_previous_cancellations', 'no_of_previous_bookings_not_canceled','avg_price_per_room','no_of_special_requests']\n",
    "del_col_csv(df, output_file, col_del)\n",
    "\n",
    "import csv\n",
    "\n",
    "csv_file = 'Hotel Reservations Update.csv'\n",
    "sql_file = 'insert_booking_tuples.sql'\n",
    "\n",
    "# Open the CSV file for reading\n",
    "with open(csv_file, newline='', encoding='utf-8') as csvfile:\n",
    "    reader = csv.reader(csvfile)\n",
    "    header = next(reader)  # Column names\n",
    "\n",
    "    # Open the SQL file for writing\n",
    "    with open(sql_file, 'w', encoding='utf-8') as sqlfile:\n",
    "        for row in reader:\n",
    "            values = []  \n",
    "            for col_name, value in zip(header, row):\n",
    "                # Specific format for booking_date\n",
    "                if col_name == 'booking_date':\n",
    "                    value = f\"to_date('{value}', 'YYYY-MM-DD')\"  \n",
    "                else:\n",
    "                    value = f\"'{value}'\"\n",
    "                values.append(value)\n",
    "                \n",
    "            sqlfile.write(f\"INSERT INTO Booking ({', '.join(header)}) VALUES ({', '.join(values)});\\n\")\n",
    "        \n",
    "print(f\"File {sql_file} has been successfully generated.\")"
   ]
  }
 ],
 "metadata": {
  "kernelspec": {
   "display_name": "base",
   "language": "python",
   "name": "python3"
  },
  "language_info": {
   "codemirror_mode": {
    "name": "ipython",
    "version": 3
   },
   "file_extension": ".py",
   "mimetype": "text/x-python",
   "name": "python",
   "nbconvert_exporter": "python",
   "pygments_lexer": "ipython3",
   "version": "3.11.5"
  }
 },
 "nbformat": 4,
 "nbformat_minor": 2
}
